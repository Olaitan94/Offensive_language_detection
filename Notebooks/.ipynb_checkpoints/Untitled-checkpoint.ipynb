{
 "cells": [
  {
   "cell_type": "code",
   "execution_count": 8,
   "id": "6386ce5d",
   "metadata": {},
   "outputs": [],
   "source": [
    "import contractions"
   ]
  },
  {
   "cell_type": "code",
   "execution_count": 9,
   "id": "767a2343",
   "metadata": {},
   "outputs": [],
   "source": [
    "import string "
   ]
  },
  {
   "cell_type": "code",
   "execution_count": 11,
   "id": "55fb4a04",
   "metadata": {},
   "outputs": [],
   "source": [
    "punctuation_marks = string.punctuation"
   ]
  },
  {
   "cell_type": "code",
   "execution_count": 12,
   "id": "3ba543d5",
   "metadata": {},
   "outputs": [
    {
     "data": {
      "text/plain": [
       "'!\"#$%&\\'()*+,-./:;<=>?@[\\\\]^_`{|}~'"
      ]
     },
     "execution_count": 12,
     "metadata": {},
     "output_type": "execute_result"
    }
   ],
   "source": [
    "punctuation_marks"
   ]
  },
  {
   "cell_type": "code",
   "execution_count": 13,
   "id": "128491fc",
   "metadata": {},
   "outputs": [],
   "source": [
    "from word2number import w2n"
   ]
  },
  {
   "cell_type": "code",
   "execution_count": 16,
   "id": "161e9d13",
   "metadata": {},
   "outputs": [
    {
     "data": {
      "text/plain": [
       "2"
      ]
     },
     "execution_count": 16,
     "metadata": {},
     "output_type": "execute_result"
    }
   ],
   "source": [
    "w2n.word_to_num(\"I stole two naira\")\n"
   ]
  },
  {
   "cell_type": "code",
   "execution_count": 19,
   "id": "c09f97ad",
   "metadata": {},
   "outputs": [
    {
     "name": "stderr",
     "output_type": "stream",
     "text": [
      "[nltk_data] Downloading package averaged_perceptron_tagger to\n",
      "[nltk_data]     C:\\Users\\ASUS\\AppData\\Roaming\\nltk_data...\n",
      "[nltk_data]   Unzipping taggers\\averaged_perceptron_tagger.zip.\n"
     ]
    },
    {
     "data": {
      "text/plain": [
       "True"
      ]
     },
     "execution_count": 19,
     "metadata": {},
     "output_type": "execute_result"
    }
   ],
   "source": [
    "import nltk\n",
    "nltk.download('averaged_perceptron_tagger')"
   ]
  },
  {
   "cell_type": "code",
   "execution_count": 33,
   "id": "06d76a77",
   "metadata": {},
   "outputs": [
    {
     "data": {
      "text/plain": [
       "[('you', 'PRP'),\n",
       " ('are', 'VBP'),\n",
       " ('five', 'CD'),\n",
       " ('the', 'DT'),\n",
       " ('king', 'NN'),\n",
       " ('of', 'IN'),\n",
       " ('taste', 'NN')]"
      ]
     },
     "execution_count": 33,
     "metadata": {},
     "output_type": "execute_result"
    }
   ],
   "source": [
    "nltk.pos_tag(['you', 'are', 'five', 'the', 'king', 'of', 'taste'])"
   ]
  },
  {
   "cell_type": "code",
   "execution_count": 43,
   "id": "b043180b",
   "metadata": {},
   "outputs": [],
   "source": [
    "lists = ['you', 'are', 'five', 'the', 'seven', 'of', 'taste', '112', 'bilion', 'trump2020']"
   ]
  },
  {
   "cell_type": "code",
   "execution_count": 44,
   "id": "c30a62e9",
   "metadata": {},
   "outputs": [],
   "source": [
    "tags = nltk.pos_tag(lists)\n",
    "for i in range(len(lists)):\n",
    "    if tags[i][1] == 'CD':\n",
    "        lists[i] = w2n.word_to_num(lists[i])"
   ]
  },
  {
   "cell_type": "code",
   "execution_count": null,
   "id": "34c82a20",
   "metadata": {},
   "outputs": [],
   "source": []
  },
  {
   "cell_type": "code",
   "execution_count": null,
   "id": "79537792",
   "metadata": {},
   "outputs": [],
   "source": []
  },
  {
   "cell_type": "code",
   "execution_count": 45,
   "id": "fffd0862",
   "metadata": {},
   "outputs": [
    {
     "data": {
      "text/plain": [
       "['you', 'are', 5, 'the', 7, 'of', 'taste', 112, 'bilion', 'trump2020']"
      ]
     },
     "execution_count": 45,
     "metadata": {},
     "output_type": "execute_result"
    }
   ],
   "source": [
    "lists"
   ]
  },
  {
   "cell_type": "code",
   "execution_count": null,
   "id": "4e4fd6f6",
   "metadata": {},
   "outputs": [],
   "source": []
  }
 ],
 "metadata": {
  "kernelspec": {
   "display_name": "Python 3 (ipykernel)",
   "language": "python",
   "name": "python3"
  },
  "language_info": {
   "codemirror_mode": {
    "name": "ipython",
    "version": 3
   },
   "file_extension": ".py",
   "mimetype": "text/x-python",
   "name": "python",
   "nbconvert_exporter": "python",
   "pygments_lexer": "ipython3",
   "version": "3.9.12"
  }
 },
 "nbformat": 4,
 "nbformat_minor": 5
}
