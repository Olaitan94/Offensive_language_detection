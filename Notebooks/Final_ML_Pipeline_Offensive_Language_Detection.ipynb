{
 "cells": [
  {
   "cell_type": "markdown",
   "id": "784a1f58",
   "metadata": {},
   "source": [
    "## Overview"
   ]
  },
  {
   "cell_type": "markdown",
   "id": "2a286993",
   "metadata": {},
   "source": [
    "This notebook contains the code for the final ML pipeline that will be deployed for detecting offensive language."
   ]
  },
  {
   "cell_type": "markdown",
   "id": "75a5895f",
   "metadata": {},
   "source": [
    "## Import Libraries"
   ]
  },
  {
   "cell_type": "code",
   "execution_count": 11,
   "id": "7e1fecf4",
   "metadata": {},
   "outputs": [],
   "source": [
    "import pandas as pd\n",
    "import numpy as np\n",
    "import matplotlib.pyplot as plt\n",
    "from tensorflow.keras.models import Sequential\n",
    "from tensorflow.keras import layers\n",
    "import tensorflow as tf\n",
    "import tensorflow_hub as hub\n",
    "import tensorflow_text as text\n",
    "from sklearn.metrics import confusion_matrix, ConfusionMatrixDisplay, f1_score\n",
    "from tensorflow.keras.callbacks import ReduceLROnPlateau, EarlyStopping, ModelCheckpoint\n",
    "from sklearn.model_selection import train_test_split\n",
    "from nltk.tokenize import word_tokenize, WhitespaceTokenizer\n",
    "from nltk.corpus import stopwords\n",
    "import contractions\n",
    "import emoji\n",
    "import string\n",
    "from word2number import w2n\n",
    "from nltk.stem.wordnet import WordNetLemmatizer\n",
    "import logging\n",
    "import matplotlib.pyplot as plt\n",
    "import re\n",
    "import os\n",
    "import shutil\n",
    "import random\n",
    "tf.get_logger().setLevel('ERROR')"
   ]
  },
  {
   "cell_type": "code",
   "execution_count": 12,
   "id": "46334b8a",
   "metadata": {},
   "outputs": [
    {
     "name": "stderr",
     "output_type": "stream",
     "text": [
      "[nltk_data] Downloading package punkt to\n",
      "[nltk_data]     C:\\Users\\ASUS\\AppData\\Roaming\\nltk_data...\n",
      "[nltk_data]   Package punkt is already up-to-date!\n",
      "[nltk_data] Downloading package stopwords to\n",
      "[nltk_data]     C:\\Users\\ASUS\\AppData\\Roaming\\nltk_data...\n",
      "[nltk_data]   Package stopwords is already up-to-date!\n",
      "[nltk_data] Downloading package averaged_perceptron_tagger to\n",
      "[nltk_data]     C:\\Users\\ASUS\\AppData\\Roaming\\nltk_data...\n",
      "[nltk_data]   Package averaged_perceptron_tagger is already up-to-\n",
      "[nltk_data]       date!\n",
      "[nltk_data] Downloading package wordnet to\n",
      "[nltk_data]     C:\\Users\\ASUS\\AppData\\Roaming\\nltk_data...\n",
      "[nltk_data]   Package wordnet is already up-to-date!\n",
      "[nltk_data] Downloading package omw-1.4 to\n",
      "[nltk_data]     C:\\Users\\ASUS\\AppData\\Roaming\\nltk_data...\n",
      "[nltk_data]   Package omw-1.4 is already up-to-date!\n"
     ]
    },
    {
     "data": {
      "text/plain": [
       "True"
      ]
     },
     "execution_count": 12,
     "metadata": {},
     "output_type": "execute_result"
    }
   ],
   "source": [
    "import nltk\n",
    "nltk.download('punkt')\n",
    "nltk.download('stopwords')\n",
    "nltk.download('averaged_perceptron_tagger')\n",
    "nltk.download('wordnet')\n",
    "nltk.download('omw-1.4')"
   ]
  },
  {
   "cell_type": "markdown",
   "id": "80df70bb",
   "metadata": {},
   "source": [
    "## Set Seed for Reproducibility"
   ]
  },
  {
   "cell_type": "code",
   "execution_count": 13,
   "id": "bf1557ed",
   "metadata": {},
   "outputs": [],
   "source": [
    "# Seed value\n",
    "seed_value= 0\n",
    "\n",
    "# 1. Set `PYTHONHASHSEED` environment variable at a fixed value\n",
    "\n",
    "os.environ['PYTHONHASHSEED']=str(seed_value)\n",
    "\n",
    "# 2. Set `python` built-in pseudo-random generator at a fixed value\n",
    "random.seed(seed_value)\n",
    "\n",
    "# 3. Set `numpy` pseudo-random generator at a fixed value\n",
    "np.random.seed(seed_value)\n",
    "\n",
    "# 4. Set `tensorflow` pseudo-random generator at a fixed value\n",
    "tf.random.set_seed(seed_value)\n",
    "\n",
    "# 5. Configure a new global `tensorflow` session\n",
    "from tensorflow.keras import backend as K\n",
    "session_conf = tf.compat.v1.ConfigProto(intra_op_parallelism_threads=1, inter_op_parallelism_threads=1)\n",
    "sess = tf.compat.v1.Session(graph=tf.compat.v1.get_default_graph(), config=session_conf)\n",
    "tf.compat.v1.keras.backend.set_session(sess)"
   ]
  },
  {
   "cell_type": "markdown",
   "id": "be3b99e2",
   "metadata": {},
   "source": [
    "## Load Dataset"
   ]
  },
  {
   "cell_type": "code",
   "execution_count": 14,
   "id": "7f0f053a",
   "metadata": {},
   "outputs": [
    {
     "data": {
      "text/html": [
       "<div>\n",
       "<style scoped>\n",
       "    .dataframe tbody tr th:only-of-type {\n",
       "        vertical-align: middle;\n",
       "    }\n",
       "\n",
       "    .dataframe tbody tr th {\n",
       "        vertical-align: top;\n",
       "    }\n",
       "\n",
       "    .dataframe thead th {\n",
       "        text-align: right;\n",
       "    }\n",
       "</style>\n",
       "<table border=\"1\" class=\"dataframe\">\n",
       "  <thead>\n",
       "    <tr style=\"text-align: right;\">\n",
       "      <th></th>\n",
       "      <th>id</th>\n",
       "      <th>tweet</th>\n",
       "      <th>subtask_a</th>\n",
       "      <th>subtask_b</th>\n",
       "      <th>subtask_c</th>\n",
       "    </tr>\n",
       "  </thead>\n",
       "  <tbody>\n",
       "    <tr>\n",
       "      <th>0</th>\n",
       "      <td>86426</td>\n",
       "      <td>@USER She should ask a few native Americans wh...</td>\n",
       "      <td>OFF</td>\n",
       "      <td>UNT</td>\n",
       "      <td>NaN</td>\n",
       "    </tr>\n",
       "    <tr>\n",
       "      <th>1</th>\n",
       "      <td>90194</td>\n",
       "      <td>@USER @USER Go home you’re drunk!!! @USER #MAG...</td>\n",
       "      <td>OFF</td>\n",
       "      <td>TIN</td>\n",
       "      <td>IND</td>\n",
       "    </tr>\n",
       "    <tr>\n",
       "      <th>2</th>\n",
       "      <td>16820</td>\n",
       "      <td>Amazon is investigating Chinese employees who ...</td>\n",
       "      <td>NOT</td>\n",
       "      <td>NaN</td>\n",
       "      <td>NaN</td>\n",
       "    </tr>\n",
       "  </tbody>\n",
       "</table>\n",
       "</div>"
      ],
      "text/plain": [
       "      id                                              tweet subtask_a  \\\n",
       "0  86426  @USER She should ask a few native Americans wh...       OFF   \n",
       "1  90194  @USER @USER Go home you’re drunk!!! @USER #MAG...       OFF   \n",
       "2  16820  Amazon is investigating Chinese employees who ...       NOT   \n",
       "\n",
       "  subtask_b subtask_c  \n",
       "0       UNT       NaN  \n",
       "1       TIN       IND  \n",
       "2       NaN       NaN  "
      ]
     },
     "execution_count": 14,
     "metadata": {},
     "output_type": "execute_result"
    }
   ],
   "source": [
    "df = pd.read_table(r'C:\\Users\\ASUS\\Offensive_Language_Detection\\Notebooks\\olid.txt')\n",
    "df.head(3)"
   ]
  },
  {
   "cell_type": "code",
   "execution_count": 15,
   "id": "86303a66",
   "metadata": {},
   "outputs": [
    {
     "name": "stdout",
     "output_type": "stream",
     "text": [
      "<class 'pandas.core.frame.DataFrame'>\n",
      "RangeIndex: 13240 entries, 0 to 13239\n",
      "Data columns (total 5 columns):\n",
      " #   Column     Non-Null Count  Dtype \n",
      "---  ------     --------------  ----- \n",
      " 0   id         13240 non-null  int64 \n",
      " 1   tweet      13240 non-null  object\n",
      " 2   subtask_a  13240 non-null  object\n",
      " 3   subtask_b  4400 non-null   object\n",
      " 4   subtask_c  3876 non-null   object\n",
      "dtypes: int64(1), object(4)\n",
      "memory usage: 517.3+ KB\n"
     ]
    }
   ],
   "source": [
    "df.info()"
   ]
  },
  {
   "cell_type": "markdown",
   "id": "82c67bdc",
   "metadata": {},
   "source": [
    "### Drop the unwanted columns"
   ]
  },
  {
   "cell_type": "code",
   "execution_count": 16,
   "id": "a11ae2fa",
   "metadata": {},
   "outputs": [
    {
     "data": {
      "text/html": [
       "<div>\n",
       "<style scoped>\n",
       "    .dataframe tbody tr th:only-of-type {\n",
       "        vertical-align: middle;\n",
       "    }\n",
       "\n",
       "    .dataframe tbody tr th {\n",
       "        vertical-align: top;\n",
       "    }\n",
       "\n",
       "    .dataframe thead th {\n",
       "        text-align: right;\n",
       "    }\n",
       "</style>\n",
       "<table border=\"1\" class=\"dataframe\">\n",
       "  <thead>\n",
       "    <tr style=\"text-align: right;\">\n",
       "      <th></th>\n",
       "      <th>tweet</th>\n",
       "      <th>subtask_a</th>\n",
       "    </tr>\n",
       "  </thead>\n",
       "  <tbody>\n",
       "    <tr>\n",
       "      <th>0</th>\n",
       "      <td>@USER She should ask a few native Americans wh...</td>\n",
       "      <td>OFF</td>\n",
       "    </tr>\n",
       "    <tr>\n",
       "      <th>1</th>\n",
       "      <td>@USER @USER Go home you’re drunk!!! @USER #MAG...</td>\n",
       "      <td>OFF</td>\n",
       "    </tr>\n",
       "    <tr>\n",
       "      <th>2</th>\n",
       "      <td>Amazon is investigating Chinese employees who ...</td>\n",
       "      <td>NOT</td>\n",
       "    </tr>\n",
       "  </tbody>\n",
       "</table>\n",
       "</div>"
      ],
      "text/plain": [
       "                                               tweet subtask_a\n",
       "0  @USER She should ask a few native Americans wh...       OFF\n",
       "1  @USER @USER Go home you’re drunk!!! @USER #MAG...       OFF\n",
       "2  Amazon is investigating Chinese employees who ...       NOT"
      ]
     },
     "execution_count": 16,
     "metadata": {},
     "output_type": "execute_result"
    }
   ],
   "source": [
    "df.drop(labels=['id', 'subtask_b', 'subtask_c'], axis = 1, inplace=True)\n",
    "df.head(3)"
   ]
  },
  {
   "cell_type": "markdown",
   "id": "cf3266e3",
   "metadata": {},
   "source": [
    "### Drop Missing Values"
   ]
  },
  {
   "cell_type": "code",
   "execution_count": 17,
   "id": "7e0cc012",
   "metadata": {},
   "outputs": [
    {
     "name": "stdout",
     "output_type": "stream",
     "text": [
      "<class 'pandas.core.frame.DataFrame'>\n",
      "RangeIndex: 13240 entries, 0 to 13239\n",
      "Data columns (total 2 columns):\n",
      " #   Column     Non-Null Count  Dtype \n",
      "---  ------     --------------  ----- \n",
      " 0   tweet      13240 non-null  object\n",
      " 1   subtask_a  13240 non-null  object\n",
      "dtypes: object(2)\n",
      "memory usage: 207.0+ KB\n"
     ]
    }
   ],
   "source": [
    "df.dropna(axis = 0, how ='any', inplace = True)\n",
    "df.info()"
   ]
  },
  {
   "cell_type": "markdown",
   "id": "41ac89a9",
   "metadata": {},
   "source": [
    "### Rename column"
   ]
  },
  {
   "cell_type": "code",
   "execution_count": 18,
   "id": "2dd1e03c",
   "metadata": {},
   "outputs": [],
   "source": [
    "df.rename(mapper = {'subtask_a':'label'}, inplace=True, axis = 1)"
   ]
  },
  {
   "cell_type": "markdown",
   "id": "910a480e",
   "metadata": {},
   "source": [
    "### Encode the Labels"
   ]
  },
  {
   "cell_type": "markdown",
   "id": "f41c4f14",
   "metadata": {},
   "source": [
    "Because some models expect numeric values for the labels, I will replace **'OFF' with 1** and **'NOT' with 0** "
   ]
  },
  {
   "cell_type": "code",
   "execution_count": 19,
   "id": "78f99ff2",
   "metadata": {},
   "outputs": [],
   "source": [
    "df['label'] = df['label'].replace(['OFF', 'NOT'], [1, 0])"
   ]
  },
  {
   "cell_type": "markdown",
   "id": "9eb93d13",
   "metadata": {},
   "source": [
    "### Split the Dataset"
   ]
  },
  {
   "cell_type": "code",
   "execution_count": 20,
   "id": "15c818d1",
   "metadata": {},
   "outputs": [],
   "source": [
    "X_train, X_test, y_train, y_test = train_test_split(df['tweet'], df['label'], test_size=0.1, random_state=12)"
   ]
  },
  {
   "cell_type": "code",
   "execution_count": 21,
   "id": "4d976371",
   "metadata": {},
   "outputs": [],
   "source": [
    "# train_data = pd.merge(X_train, y_train, on = X_train.index).iloc[:,1:]\n",
    "# test_data = pd.merge(X_test, y_test, on = X_test.index).iloc[:,1:]"
   ]
  },
  {
   "cell_type": "code",
   "execution_count": 22,
   "id": "503f5b15",
   "metadata": {},
   "outputs": [],
   "source": [
    "# train_data.to_csv('train_data.csv')\n",
    "# test_data.to_csv('test_data.csv')"
   ]
  },
  {
   "cell_type": "markdown",
   "id": "b4b06d13",
   "metadata": {},
   "source": [
    "## Text Preprocessing"
   ]
  },
  {
   "cell_type": "markdown",
   "id": "0a8593eb",
   "metadata": {},
   "source": [
    "### Define functions that will be used to preprocess the text"
   ]
  },
  {
   "cell_type": "code",
   "execution_count": 23,
   "id": "53383a42",
   "metadata": {},
   "outputs": [],
   "source": [
    "#function to expand contractions - contractions.fix()"
   ]
  },
  {
   "cell_type": "code",
   "execution_count": 24,
   "id": "31980208",
   "metadata": {},
   "outputs": [],
   "source": [
    "#function to normalize the text\n",
    "\n",
    "def lowercase(text):\n",
    "    \n",
    "    \"\"\" Function_name: normalizer\n",
    "        input_params:\n",
    "            text: string\n",
    "        output_params: text in lowercase\n",
    "        \"\"\"\n",
    "    return text.lower()"
   ]
  },
  {
   "cell_type": "code",
   "execution_count": 25,
   "id": "0ed939d8",
   "metadata": {},
   "outputs": [],
   "source": [
    "#function to remove emojis \n",
    "\n",
    "def remove_emoji(text):\n",
    "    \n",
    "    \"\"\" Function_name: emoji_remover\n",
    "        input_params:\n",
    "            text: string\n",
    "        output_params: text with all emojis removed\n",
    "        \"\"\"    \n",
    "    return emoji.replace_emoji(text,replace='')"
   ]
  },
  {
   "cell_type": "code",
   "execution_count": 26,
   "id": "fffedd0a",
   "metadata": {},
   "outputs": [],
   "source": [
    "#create a function to remove punctuation marks\n",
    "\n",
    "def remove_punctuation(text):\n",
    "    \n",
    "    \"\"\" Function_name: punctuation_remover\n",
    "        input_params:\n",
    "            text: string\n",
    "        output_params: text with all punctuation marks removed\n",
    "        \"\"\"     \n",
    "    punctuation_marks = string.punctuation\n",
    "    return text.translate(str.maketrans('', '', punctuation_marks))"
   ]
  },
  {
   "cell_type": "code",
   "execution_count": 27,
   "id": "9748f0a7",
   "metadata": {},
   "outputs": [],
   "source": [
    "#create function emove url & user\n",
    "\n",
    "def remove_url_user(text):\n",
    "    \n",
    "    \"\"\" Function_name: url_remover\n",
    "        input_params:\n",
    "            text: string\n",
    "        output_params: text with all 'urls' & 'user' removed\n",
    "        \"\"\"     \n",
    "    text_1 = text.replace('url','')\n",
    "    return text_1.replace('user', '')"
   ]
  },
  {
   "cell_type": "code",
   "execution_count": 28,
   "id": "55346ca4",
   "metadata": {},
   "outputs": [],
   "source": [
    "#function to tokenize text - (word_tokenize())"
   ]
  },
  {
   "cell_type": "code",
   "execution_count": 29,
   "id": "496b7209",
   "metadata": {},
   "outputs": [],
   "source": [
    "#convert word to numbers\n",
    "#nltk_pos_tag for some reason tags certain words as CD e.g girl, so I have to use a tray & except block to handle this \n",
    "\n",
    "def convert_to_numeric(lists):\n",
    "    \n",
    "    \"\"\" Function_name: word2number\n",
    "        input_params:\n",
    "            lists: Python list containing strings\n",
    "        output_params: Python list with all numbers in words converted to digits\n",
    "        \"\"\" \n",
    "    \n",
    "    length = len(lists)\n",
    "    tags = nltk.pos_tag(lists)\n",
    "    new_list = []\n",
    "    for i in range(length):\n",
    "        if tags[i][1] == 'CD':\n",
    "            try:\n",
    "                new_list.append(w2n.word_to_num(lists[i]))\n",
    "            except:\n",
    "                new_list.append(lists[i])\n",
    "        else:\n",
    "            new_list.append(lists[i])\n",
    "    return new_list"
   ]
  },
  {
   "cell_type": "code",
   "execution_count": 30,
   "id": "c40b0043",
   "metadata": {},
   "outputs": [],
   "source": [
    "#function to remove all digits\n",
    "\n",
    "def remove_numbers(lists):\n",
    "    \n",
    "    \"\"\" Function_name: digit_remover\n",
    "        input_params:\n",
    "            lists: Python list containing strings\n",
    "        output_params: Python list with all digits removed\n",
    "        \"\"\" \n",
    "    new_list = []\n",
    "    for val in lists:\n",
    "        if not bool(re.search(r'\\d', str(val))):\n",
    "            new_list.append(val)\n",
    "    return new_list\n",
    "     "
   ]
  },
  {
   "cell_type": "code",
   "execution_count": 31,
   "id": "1b90b10e",
   "metadata": {},
   "outputs": [],
   "source": [
    "#function to remove stop words\n",
    "\n",
    "def remove_stop_words(lists):\n",
    "    \n",
    "    \"\"\" Function_name: stop_words_remover\n",
    "        input_params:\n",
    "            lists: Python list containing strings\n",
    "        output_params: Python list with all stop words removed\n",
    "        \"\"\" \n",
    "    \n",
    "    stoplist = set(stopwords.words('english'))\n",
    "    new_list = []\n",
    "    for word in lists:\n",
    "        if word not in stoplist:\n",
    "            new_list.append(word)\n",
    "    return new_list"
   ]
  },
  {
   "cell_type": "code",
   "execution_count": 32,
   "id": "dc69a99b",
   "metadata": {},
   "outputs": [],
   "source": [
    "#function to lemmatize words\n",
    "\n",
    "def lemmatize_words(lists):\n",
    "    \n",
    "    \"\"\" Function_name: lemmatizer\n",
    "        input_params:\n",
    "            lists: Python list containing strings\n",
    "        output_params: Python list with all words lemmatized\n",
    "        \"\"\"     \n",
    "    lemmatizer = WordNetLemmatizer()\n",
    "    new_list = []\n",
    "    for word in lists:\n",
    "        new_list.append(lemmatizer.lemmatize(word))\n",
    "    return new_list"
   ]
  },
  {
   "cell_type": "code",
   "execution_count": 33,
   "id": "66a6abf8",
   "metadata": {},
   "outputs": [],
   "source": [
    "# function to join elements in the list back into a sentence\n",
    "\n",
    "def rejoin(lists):\n",
    "    \n",
    "    \"\"\" Function_name: sentence_maker\n",
    "        input_params:\n",
    "            lists: Python list containing strings\n",
    "        output_params: Python string\n",
    "        \"\"\"\n",
    "    \n",
    "    return \" \".join(lists)\n",
    "        "
   ]
  },
  {
   "cell_type": "markdown",
   "id": "e35f051d",
   "metadata": {},
   "source": [
    "### Tokenizer"
   ]
  },
  {
   "cell_type": "markdown",
   "id": "9f584b7e",
   "metadata": {},
   "source": [
    "**The BERT model**\n",
    "\n",
    "The BERT model I'll be using for this project is DistilBERT, so I'll load the preprocessor & encoder from tensorflowhub"
   ]
  },
  {
   "cell_type": "code",
   "execution_count": 34,
   "id": "6e46271d",
   "metadata": {},
   "outputs": [],
   "source": [
    "tfhub_preprocess = 'https://tfhub.dev/jeongukjae/distilbert_en_uncased_preprocess/2'\n",
    "tfhub_bert = 'https://tfhub.dev/jeongukjae/distilbert_en_uncased_L-6_H-768_A-12/1'\n",
    "\n",
    "bert_tokenizer = hub.KerasLayer(tfhub_preprocess)\n",
    "bert_encoder = hub.KerasLayer(tfhub_bert, trainable=True)"
   ]
  },
  {
   "cell_type": "markdown",
   "id": "8be73bd1",
   "metadata": {},
   "source": [
    "### Create a Preprocessing Pipeline"
   ]
  },
  {
   "cell_type": "code",
   "execution_count": 35,
   "id": "f20c2785",
   "metadata": {},
   "outputs": [],
   "source": [
    "#create a pipeline unction to apply all the other functions\n",
    "\n",
    "def processing_pipeline(text):\n",
    "    \n",
    "    new_text = contractions.fix(text)\n",
    "    new_text = lowercase(new_text)\n",
    "    new_text = remove_emoji(new_text)\n",
    "    new_text = remove_punctuation(new_text)\n",
    "    new_text = remove_url_user(new_text)\n",
    "    new_text = word_tokenize(new_text)\n",
    "    new_text = convert_to_numeric(new_text)\n",
    "    new_text = remove_numbers(new_text)\n",
    "    new_text = remove_stop_words(new_text)\n",
    "    new_text = lemmatize_words(new_text)\n",
    "    new_text = rejoin(new_text)\n",
    "    \n",
    "    return new_text\n",
    "    \n",
    "    \n",
    "    "
   ]
  },
  {
   "cell_type": "code",
   "execution_count": 36,
   "id": "ca19ec97",
   "metadata": {},
   "outputs": [],
   "source": [
    "#Preprocess the tweets"
   ]
  },
  {
   "cell_type": "code",
   "execution_count": 37,
   "id": "8b3113b3",
   "metadata": {},
   "outputs": [],
   "source": [
    "X_train = X_train.apply(processing_pipeline)"
   ]
  },
  {
   "cell_type": "code",
   "execution_count": 27,
   "id": "7a5a75fb",
   "metadata": {},
   "outputs": [],
   "source": [
    "#Check for empty tweets"
   ]
  },
  {
   "cell_type": "code",
   "execution_count": 28,
   "id": "e01a2106",
   "metadata": {},
   "outputs": [
    {
     "data": {
      "text/plain": [
       "94"
      ]
     },
     "execution_count": 28,
     "metadata": {},
     "output_type": "execute_result"
    }
   ],
   "source": [
    "sum(X_train == '')"
   ]
  },
  {
   "cell_type": "markdown",
   "id": "df6b4f5c",
   "metadata": {},
   "source": [
    "**Remove empties**"
   ]
  },
  {
   "cell_type": "code",
   "execution_count": 30,
   "id": "9386e352",
   "metadata": {},
   "outputs": [],
   "source": [
    "#get the index of empties\n",
    "X_empty = X_train[X_train == '']\n",
    "X_empty_index = X_empty.index"
   ]
  },
  {
   "cell_type": "code",
   "execution_count": 32,
   "id": "646e4d14",
   "metadata": {},
   "outputs": [],
   "source": [
    "#drop the empty index from training data\n",
    "X_train = X_train.drop(index = X_empty_index)\n",
    "y_train = y_train.drop(index = X_empty_index)"
   ]
  },
  {
   "cell_type": "raw",
   "id": "94aedcbc",
   "metadata": {},
   "source": [
    "## Tokenize the data"
   ]
  },
  {
   "cell_type": "code",
   "execution_count": 34,
   "id": "b151bc01",
   "metadata": {},
   "outputs": [],
   "source": [
    "X_train_token = bert_tokenizer(X_train)"
   ]
  },
  {
   "cell_type": "markdown",
   "id": "ee7ebbfc",
   "metadata": {},
   "source": [
    "## Finetune BERT model for Classification"
   ]
  },
  {
   "cell_type": "markdown",
   "id": "c28a9881",
   "metadata": {},
   "source": [
    "**Generate class_weights**"
   ]
  },
  {
   "cell_type": "code",
   "execution_count": 38,
   "id": "77e84ae5",
   "metadata": {},
   "outputs": [
    {
     "data": {
      "text/plain": [
       "{0: 0.7492454728370221, 1: 1.5030272452068618}"
      ]
     },
     "execution_count": 38,
     "metadata": {},
     "output_type": "execute_result"
    }
   ],
   "source": [
    "neg =  y_train.value_counts()[0]\n",
    "pos =  y_train.value_counts()[1]\n",
    "total = y_train.shape[0]\n",
    "weight_for_0 = (1/neg) * (total/2)\n",
    "weight_for_1 = (1/pos) * (total/2)\n",
    "\n",
    "#create a dictionary to hold the weights\n",
    "class_weights = {0:weight_for_0, 1:weight_for_1 }\n",
    "class_weights"
   ]
  },
  {
   "cell_type": "code",
   "execution_count": 39,
   "id": "9c7f949d",
   "metadata": {},
   "outputs": [
    {
     "data": {
      "text/plain": [
       "(7952, 3964)"
      ]
     },
     "execution_count": 39,
     "metadata": {},
     "output_type": "execute_result"
    }
   ],
   "source": [
    "neg, pos"
   ]
  },
  {
   "cell_type": "markdown",
   "id": "7fd7a551",
   "metadata": {},
   "source": [
    "**Set the initial bias**"
   ]
  },
  {
   "cell_type": "code",
   "execution_count": 40,
   "id": "a22d96d9",
   "metadata": {},
   "outputs": [],
   "source": [
    "#get the correct value for the initial bias\n",
    "initial_bias = np.log([pos/neg])\n",
    "output_bias = tf.keras.initializers.Constant(initial_bias)"
   ]
  },
  {
   "cell_type": "code",
   "execution_count": 41,
   "id": "a90ae993",
   "metadata": {},
   "outputs": [],
   "source": [
    "metrics = tf.metrics.BinaryAccuracy()\n",
    "loss=tf.keras.losses.BinaryCrossentropy()\n",
    "\n",
    "\n",
    "def create_model():\n",
    "    input_word_ids = tf.keras.Input(shape=(128,), dtype=tf.int32, name=\"input_word_ids\")\n",
    "    input_mask = tf.keras.Input(shape=(128,), dtype=tf.int32, name=\"input_mask\")\n",
    "    \n",
    "    encoder = hub.KerasLayer(tfhub_bert, trainable=True, name='BERT_encoder')\n",
    "    \n",
    "    encoder_output = encoder({'input_word_ids':input_word_ids, 'input_mask':input_mask},True)\n",
    "    sequence_output = encoder_output['sequence_output']\n",
    "    \n",
    "    clf_output = sequence_output[:, 0, :]\n",
    "\n",
    "    layer = layers.Dense(units = 64, activation = 'relu', name ='hidden_layer_1')(clf_output)\n",
    "    layer = tf.keras.layers.Dropout(0.2)(layer)\n",
    "    layer = tf.keras.layers.Dense(32, activation='relu', name = 'hidden_layer_2')(layer)\n",
    "    out = tf.keras.layers.Dense(1, activation='sigmoid', bias_initializer=output_bias)(layer)\n",
    "    \n",
    "    model = tf.keras.models.Model(inputs=[input_word_ids, input_mask], outputs=out)\n",
    "    model.compile(optimizer=tf.keras.optimizers.Adam(learning_rate=2e-5),loss=loss, metrics=['accuracy'])\n",
    "    \n",
    "    return model"
   ]
  },
  {
   "cell_type": "markdown",
   "id": "22c308d6",
   "metadata": {},
   "source": [
    "**Create the model**"
   ]
  },
  {
   "cell_type": "code",
   "execution_count": 41,
   "id": "3966cb0c",
   "metadata": {},
   "outputs": [
    {
     "name": "stdout",
     "output_type": "stream",
     "text": [
      "Model: \"model_1\"\n",
      "__________________________________________________________________________________________________\n",
      " Layer (type)                   Output Shape         Param #     Connected to                     \n",
      "==================================================================================================\n",
      " input_mask (InputLayer)        [(None, 128)]        0           []                               \n",
      "                                                                                                  \n",
      " input_word_ids (InputLayer)    [(None, 128)]        0           []                               \n",
      "                                                                                                  \n",
      " BERT_encoder (KerasLayer)      {'encoder_outputs':  66362880    ['input_mask[0][0]',             \n",
      "                                 [(None, 128, 768),               'input_word_ids[0][0]']         \n",
      "                                 (None, 128, 768),                                                \n",
      "                                 (None, 128, 768),                                                \n",
      "                                 (None, 128, 768),                                                \n",
      "                                 (None, 128, 768),                                                \n",
      "                                 (None, 128, 768)],                                               \n",
      "                                 'sequence_output':                                               \n",
      "                                 (None, 128, 768),                                                \n",
      "                                 'pooled_output': (                                               \n",
      "                                None, 768)}                                                       \n",
      "                                                                                                  \n",
      " tf.__operators__.getitem_1 (Sl  (None, 768)         0           ['BERT_encoder[0][7]']           \n",
      " icingOpLambda)                                                                                   \n",
      "                                                                                                  \n",
      " hidden_layer_1 (Dense)         (None, 64)           49216       ['tf.__operators__.getitem_1[0][0\n",
      "                                                                 ]']                              \n",
      "                                                                                                  \n",
      " dropout_2 (Dropout)            (None, 64)           0           ['hidden_layer_1[0][0]']         \n",
      "                                                                                                  \n",
      " hidden_layer_2 (Dense)         (None, 32)           2080        ['dropout_2[0][0]']              \n",
      "                                                                                                  \n",
      " dense_1 (Dense)                (None, 1)            33          ['hidden_layer_2[0][0]']         \n",
      "                                                                                                  \n",
      "==================================================================================================\n",
      "Total params: 66,414,209\n",
      "Trainable params: 66,414,209\n",
      "Non-trainable params: 0\n",
      "__________________________________________________________________________________________________\n"
     ]
    }
   ],
   "source": [
    "#Create the model\n",
    "bert_classifier = create_model()\n",
    "bert_classifier.summary()"
   ]
  },
  {
   "cell_type": "markdown",
   "id": "9fe868c4",
   "metadata": {},
   "source": [
    "**Fit the model to the training set**"
   ]
  },
  {
   "cell_type": "code",
   "execution_count": 45,
   "id": "213e26ff",
   "metadata": {},
   "outputs": [
    {
     "name": "stdout",
     "output_type": "stream",
     "text": [
      "Epoch 1/5\n",
      "296/296 [==============================] - ETA: 0s - loss: 0.5240 - accuracy: 0.7448 \n",
      "Epoch 1: val_accuracy improved from -inf to 0.78393, saving model to model.h5\n",
      "296/296 [==============================] - 6306s 21s/step - loss: 0.5240 - accuracy: 0.7448 - val_loss: 0.4602 - val_accuracy: 0.7839\n",
      "Epoch 2/5\n",
      "296/296 [==============================] - ETA: 0s - loss: 0.4400 - accuracy: 0.7992 \n",
      "Epoch 2: val_accuracy did not improve from 0.78393\n",
      "296/296 [==============================] - 6321s 21s/step - loss: 0.4400 - accuracy: 0.7992 - val_loss: 0.4746 - val_accuracy: 0.7734\n",
      "Epoch 3/5\n",
      "296/296 [==============================] - ETA: 0s - loss: 0.3687 - accuracy: 0.8390 \n",
      "Epoch 3: val_accuracy did not improve from 0.78393\n",
      "296/296 [==============================] - 6328s 21s/step - loss: 0.3687 - accuracy: 0.8390 - val_loss: 0.5236 - val_accuracy: 0.7548\n",
      "Epoch 4/5\n",
      "296/296 [==============================] - ETA: 0s - loss: 0.2864 - accuracy: 0.8792 \n",
      "Epoch 4: val_accuracy did not improve from 0.78393\n",
      "296/296 [==============================] - 6318s 21s/step - loss: 0.2864 - accuracy: 0.8792 - val_loss: 0.5370 - val_accuracy: 0.7687\n",
      "Epoch 5/5\n",
      "296/296 [==============================] - ETA: 0s - loss: 0.1998 - accuracy: 0.9158 \n",
      "Epoch 5: val_accuracy improved from 0.78393 to 0.78689, saving model to model.h5\n",
      "296/296 [==============================] - 6233s 21s/step - loss: 0.1998 - accuracy: 0.9158 - val_loss: 0.6279 - val_accuracy: 0.7869\n"
     ]
    }
   ],
   "source": [
    "checkpoint = tf.keras.callbacks.ModelCheckpoint('model.h5', monitor='val_accuracy', save_best_only=True, verbose=1)\n",
    "\n",
    "history = bert_classifier.fit(X_train_token,y_train, epochs = 5,validation_split=0.2, callbacks=[checkpoint], verbose=1, class_weight=class_weights)"
   ]
  },
  {
   "cell_type": "code",
   "execution_count": 59,
   "id": "134a0d48",
   "metadata": {},
   "outputs": [
    {
     "name": "stdout",
     "output_type": "stream",
     "text": [
      "Epoch 1/2\n",
      "296/296 [==============================] - ETA: 0s - loss: 0.1429 - accuracy: 0.9443 \n",
      "Epoch 1: val_accuracy improved from 0.78689 to 0.78732, saving model to model.h5\n",
      "296/296 [==============================] - 6727s 23s/step - loss: 0.1429 - accuracy: 0.9443 - val_loss: 0.7212 - val_accuracy: 0.7873\n",
      "Epoch 2/2\n",
      "296/296 [==============================] - ETA: 0s - loss: 0.1085 - accuracy: 0.9589 \n",
      "Epoch 2: val_accuracy did not improve from 0.78732\n",
      "296/296 [==============================] - 6311s 21s/step - loss: 0.1085 - accuracy: 0.9589 - val_loss: 0.7778 - val_accuracy: 0.7729\n"
     ]
    }
   ],
   "source": [
    "history = bert_classifier.fit(X_train_token,y_train, epochs = 2,validation_split=0.2, callbacks=[checkpoint], verbose=1, class_weight=class_weights)"
   ]
  },
  {
   "cell_type": "code",
   "execution_count": 60,
   "id": "35a0d0ed",
   "metadata": {},
   "outputs": [
    {
     "data": {
      "image/png": "[encoded data removed]",
      "text/plain": [
       "<Figure size 1440x1440 with 2 Axes>"
      ]
     },
     "metadata": {
      "needs_background": "light"
     },
     "output_type": "display_data"
    }
   ],
   "source": [
    "#Plot the learning curves\n",
    "plt.figure( figsize=(20,20))\n",
    "\n",
    "plt.subplot(2, 2, 1)\n",
    "plt.plot(history.history['val_loss'])\n",
    "plt.plot(history.history['loss'])\n",
    "plt.title('Loss - Training vs Validation')\n",
    "plt.ylabel('Loss')\n",
    "plt.xlabel('Epoch')\n",
    "plt.legend(['val_loss','loss'], loc='upper left')\n",
    "\n",
    "plt.subplot(2, 2, 2)\n",
    "plt.plot(history.history['val_accuracy'])\n",
    "plt.plot(history.history['accuracy'])\n",
    "plt.title('Accuracy - Training vs Validation')\n",
    "plt.ylabel('Accuracy')\n",
    "plt.xlabel('Epoch')\n",
    "plt.legend(['val_accuracy','accuracy'], loc='upper left')\n",
    "\n",
    "plt.show()"
   ]
  },
  {
   "cell_type": "code",
   "execution_count": 117,
   "id": "6ee4666d",
   "metadata": {},
   "outputs": [
    {
     "name": "stderr",
     "output_type": "stream",
     "text": [
      "WARNING:absl:Found untraced functions such as restored_function_body, restored_function_body, restored_function_body, restored_function_body, restored_function_body while saving (showing 5 of 180). These functions will not be directly callable after loading.\n"
     ]
    }
   ],
   "source": [
    "bert_classifier.save('saved_model')"
   ]
  },
  {
   "cell_type": "markdown",
   "id": "c3898718",
   "metadata": {},
   "source": [
    "### Test the model"
   ]
  },
  {
   "cell_type": "markdown",
   "id": "7adbb2b8",
   "metadata": {},
   "source": [
    "**Pre process the test set**"
   ]
  },
  {
   "cell_type": "code",
   "execution_count": 47,
   "id": "046a6cc5",
   "metadata": {},
   "outputs": [],
   "source": [
    "X_test = X_test.apply(processing_pipeline)"
   ]
  },
  {
   "cell_type": "code",
   "execution_count": 50,
   "id": "a5ecb990",
   "metadata": {},
   "outputs": [],
   "source": [
    "X_test_token = bert_tokenizer(X_test)"
   ]
  },
  {
   "cell_type": "markdown",
   "id": "d22fb193",
   "metadata": {},
   "source": [
    "**Predict the classes for the test set**"
   ]
  },
  {
   "cell_type": "code",
   "execution_count": 61,
   "id": "f92d21b3",
   "metadata": {},
   "outputs": [
    {
     "name": "stdout",
     "output_type": "stream",
     "text": [
      "42/42 [==============================] - 332s 8s/step\n"
     ]
    }
   ],
   "source": [
    "#Get the probabilities\n",
    "pred_proba = bert_classifier.predict(X_test_token)\n"
   ]
  },
  {
   "cell_type": "code",
   "execution_count": 52,
   "id": "2f79b57e",
   "metadata": {},
   "outputs": [],
   "source": [
    "#function to convert probabilties to classes\n",
    "def convert(prediction_array, threshold):\n",
    "    predictions_list = []\n",
    "    for val in prediction_array:\n",
    "        for value in val:\n",
    "            if value >= threshold:\n",
    "                predictions_list.append(1)\n",
    "            else:\n",
    "                predictions_list.append(0)\n",
    "    return pd.Series(predictions_list)\n",
    "\n",
    "def test_results(true_labels, predicted_labels,model_name, dataset):\n",
    "    \n",
    "    f1score = f1_score(true_labels, predicted_labels, average = 'macro')\n",
    "    cm = confusion_matrix(true_labels, predicted_labels)\n",
    "    per_class = cm.diagonal()/cm.sum(axis=1)\n",
    "    result = pd.Series({'Model Name': model_name , 'Dataset':dataset,'Macro_F1score':f1score, 'Majority_Class_Accuracy': per_class[0], 'Minority_Class_Accuracy': per_class[1]})\n",
    "    disp = ConfusionMatrixDisplay(confusion_matrix=cm, display_labels=[0,1])\n",
    "    disp.plot()\n",
    "    plt.show()\n",
    "    return result"
   ]
  },
  {
   "cell_type": "code",
   "execution_count": 71,
   "id": "20419fb2",
   "metadata": {},
   "outputs": [
    {
     "data": {
      "image/png": "[encoded data removed]",
      "text/plain": [
       "<Figure size 432x288 with 2 Axes>"
      ]
     },
     "metadata": {
      "needs_background": "light"
     },
     "output_type": "display_data"
    },
    {
     "data": {
      "text/plain": [
       "Model Name                                         BERT\n",
       "Dataset                    Imbalanced with Class Weight\n",
       "Macro_F1score                                  0.729771\n",
       "Majority_Class_Accuracy                        0.775901\n",
       "Minority_Class_Accuracy                        0.704128\n",
       "dtype: object"
      ]
     },
     "execution_count": 71,
     "metadata": {},
     "output_type": "execute_result"
    }
   ],
   "source": [
    "prediction = convert(pred_proba,0.4)\n",
    "bert_result = test_results(y_test, prediction,'BERT', 'Imbalanced with Class Weight')\n",
    "bert_result"
   ]
  },
  {
   "cell_type": "markdown",
   "id": "ccda160b",
   "metadata": {},
   "source": [
    "## Deploy Model as REST API"
   ]
  },
  {
   "cell_type": "markdown",
   "id": "0bd933da",
   "metadata": {},
   "source": [
    "Now that the model has been trained, tested and saved, I will convert this pipeline to production code and deploy the model"
   ]
  },
  {
   "cell_type": "code",
   "execution_count": 78,
   "id": "1389a124",
   "metadata": {},
   "outputs": [
    {
     "name": "stdout",
     "output_type": "stream",
     "text": [
      "Collecting pipreqs\n",
      "  Downloading pipreqs-0.4.11-py2.py3-none-any.whl (32 kB)\n",
      "Collecting yarg\n",
      "  Downloading yarg-0.1.9-py2.py3-none-any.whl (19 kB)\n",
      "Collecting docopt\n",
      "  Downloading docopt-0.6.2.tar.gz (25 kB)\n",
      "  Preparing metadata (setup.py): started\n",
      "  Preparing metadata (setup.py): finished with status 'done'\n",
      "Requirement already satisfied: requests in c:\\users\\asus\\anaconda3_2\\lib\\site-packages (from yarg->pipreqs) (2.27.1)\n",
      "Requirement already satisfied: charset-normalizer~=2.0.0 in c:\\users\\asus\\anaconda3_2\\lib\\site-packages (from requests->yarg->pipreqs) (2.0.4)\n",
      "Requirement already satisfied: idna<4,>=2.5 in c:\\users\\asus\\anaconda3_2\\lib\\site-packages (from requests->yarg->pipreqs) (3.3)\n",
      "Requirement already satisfied: urllib3<1.27,>=1.21.1 in c:\\users\\asus\\anaconda3_2\\lib\\site-packages (from requests->yarg->pipreqs) (1.26.9)\n",
      "Requirement already satisfied: certifi>=2017.4.17 in c:\\users\\asus\\anaconda3_2\\lib\\site-packages (from requests->yarg->pipreqs) (2021.10.8)\n",
      "Building wheels for collected packages: docopt\n",
      "  Building wheel for docopt (setup.py): started\n",
      "  Building wheel for docopt (setup.py): finished with status 'done'\n",
      "  Created wheel for docopt: filename=docopt-0.6.2-py2.py3-none-any.whl size=13775 sha256=5fa269cf09d0c31e86a4a4a39ac544cbd016c836da042ee875385aa924d29b9c\n",
      "  Stored in directory: c:\\users\\asus\\appdata\\local\\pip\\cache\\wheels\\4e\\29\\5e\\e5f6f558e24e0d70f6808e3e8fdaf2c04ff597233098afc550\n",
      "Successfully built docopt\n",
      "Installing collected packages: docopt, yarg, pipreqs\n",
      "Successfully installed docopt-0.6.2 pipreqs-0.4.11 yarg-0.1.9\n",
      "Requirement already satisfied: nbconvert in c:\\users\\asus\\anaconda3_2\\lib\\site-packages (6.4.4)\n",
      "Requirement already satisfied: nbclient<0.6.0,>=0.5.0 in c:\\users\\asus\\anaconda3_2\\lib\\site-packages (from nbconvert) (0.5.13)\n",
      "Requirement already satisfied: pygments>=2.4.1 in c:\\users\\asus\\anaconda3_2\\lib\\site-packages (from nbconvert) (2.11.2)\n",
      "Requirement already satisfied: jinja2>=2.4 in c:\\users\\asus\\anaconda3_2\\lib\\site-packages (from nbconvert) (2.11.3)\n",
      "Requirement already satisfied: bleach in c:\\users\\asus\\anaconda3_2\\lib\\site-packages (from nbconvert) (4.1.0)\n",
      "Requirement already satisfied: jupyterlab-pygments in c:\\users\\asus\\anaconda3_2\\lib\\site-packages (from nbconvert) (0.1.2)\n",
      "Requirement already satisfied: nbformat>=4.4 in c:\\users\\asus\\anaconda3_2\\lib\\site-packages (from nbconvert) (5.3.0)\n",
      "Requirement already satisfied: pandocfilters>=1.4.1 in c:\\users\\asus\\anaconda3_2\\lib\\site-packages (from nbconvert) (1.5.0)\n",
      "Requirement already satisfied: defusedxml in c:\\users\\asus\\anaconda3_2\\lib\\site-packages (from nbconvert) (0.7.1)\n",
      "Requirement already satisfied: testpath in c:\\users\\asus\\anaconda3_2\\lib\\site-packages (from nbconvert) (0.5.0)\n",
      "Requirement already satisfied: mistune<2,>=0.8.1 in c:\\users\\asus\\anaconda3_2\\lib\\site-packages (from nbconvert) (0.8.4)\n",
      "Requirement already satisfied: jupyter-core in c:\\users\\asus\\anaconda3_2\\lib\\site-packages (from nbconvert) (4.9.2)\n",
      "Requirement already satisfied: traitlets>=5.0 in c:\\users\\asus\\anaconda3_2\\lib\\site-packages (from nbconvert) (5.1.1)\n",
      "Requirement already satisfied: beautifulsoup4 in c:\\users\\asus\\anaconda3_2\\lib\\site-packages (from nbconvert) (4.11.1)\n",
      "Requirement already satisfied: entrypoints>=0.2.2 in c:\\users\\asus\\anaconda3_2\\lib\\site-packages (from nbconvert) (0.4)\n",
      "Requirement already satisfied: MarkupSafe>=0.23 in c:\\users\\asus\\anaconda3_2\\lib\\site-packages (from jinja2>=2.4->nbconvert) (2.0.1)\n",
      "Requirement already satisfied: jupyter-client>=6.1.5 in c:\\users\\asus\\anaconda3_2\\lib\\site-packages (from nbclient<0.6.0,>=0.5.0->nbconvert) (6.1.12)\n",
      "Requirement already satisfied: nest-asyncio in c:\\users\\asus\\anaconda3_2\\lib\\site-packages (from nbclient<0.6.0,>=0.5.0->nbconvert) (1.5.5)\n",
      "Requirement already satisfied: fastjsonschema in c:\\users\\asus\\anaconda3_2\\lib\\site-packages (from nbformat>=4.4->nbconvert) (2.15.1)\n",
      "Requirement already satisfied: jsonschema>=2.6 in c:\\users\\asus\\anaconda3_2\\lib\\site-packages (from nbformat>=4.4->nbconvert) (4.4.0)\n",
      "Requirement already satisfied: soupsieve>1.2 in c:\\users\\asus\\anaconda3_2\\lib\\site-packages (from beautifulsoup4->nbconvert) (2.3.1)\n",
      "Requirement already satisfied: six>=1.9.0 in c:\\users\\asus\\anaconda3_2\\lib\\site-packages (from bleach->nbconvert) (1.16.0)\n",
      "Requirement already satisfied: packaging in c:\\users\\asus\\anaconda3_2\\lib\\site-packages (from bleach->nbconvert) (21.3)\n",
      "Requirement already satisfied: webencodings in c:\\users\\asus\\anaconda3_2\\lib\\site-packages (from bleach->nbconvert) (0.5.1)\n",
      "Requirement already satisfied: pywin32>=1.0 in c:\\users\\asus\\anaconda3_2\\lib\\site-packages (from jupyter-core->nbconvert) (302)\n",
      "Requirement already satisfied: attrs>=17.4.0 in c:\\users\\asus\\anaconda3_2\\lib\\site-packages (from jsonschema>=2.6->nbformat>=4.4->nbconvert) (21.4.0)\n",
      "Requirement already satisfied: pyrsistent!=0.17.0,!=0.17.1,!=0.17.2,>=0.14.0 in c:\\users\\asus\\anaconda3_2\\lib\\site-packages (from jsonschema>=2.6->nbformat>=4.4->nbconvert) (0.18.0)\n",
      "Requirement already satisfied: python-dateutil>=2.1 in c:\\users\\asus\\anaconda3_2\\lib\\site-packages (from jupyter-client>=6.1.5->nbclient<0.6.0,>=0.5.0->nbconvert) (2.8.2)\n",
      "Requirement already satisfied: pyzmq>=13 in c:\\users\\asus\\anaconda3_2\\lib\\site-packages (from jupyter-client>=6.1.5->nbclient<0.6.0,>=0.5.0->nbconvert) (22.3.0)\n",
      "Requirement already satisfied: tornado>=4.1 in c:\\users\\asus\\anaconda3_2\\lib\\site-packages (from jupyter-client>=6.1.5->nbclient<0.6.0,>=0.5.0->nbconvert) (6.1)\n",
      "Requirement already satisfied: pyparsing!=3.0.5,>=2.0.2 in c:\\users\\asus\\anaconda3_2\\lib\\site-packages (from packaging->bleach->nbconvert) (3.0.4)\n"
     ]
    }
   ],
   "source": []
  },
  {
   "cell_type": "code",
   "execution_count": 72,
   "id": "6e59f456",
   "metadata": {},
   "outputs": [],
   "source": []
  },
  {
   "cell_type": "code",
   "execution_count": 42,
   "id": "a3fa6511",
   "metadata": {},
   "outputs": [],
   "source": [
    "loaded_model = tf.keras.models.load_model(r'C:\\Users\\ASUS\\Offensive_Language_Detection\\offensive_language_detection_model\\saved_model', custom_objects={'KerasLayer':hub.KerasLayer} )"
   ]
  },
  {
   "cell_type": "code",
   "execution_count": 45,
   "id": "7ef30201",
   "metadata": {},
   "outputs": [],
   "source": [
    "loaded_model.save_weights('saved_weights')"
   ]
  },
  {
   "cell_type": "code",
   "execution_count": 46,
   "id": "337909e2",
   "metadata": {},
   "outputs": [],
   "source": [
    "model_b= create_model()"
   ]
  },
  {
   "cell_type": "code",
   "execution_count": 59,
   "id": "b67cfa3e",
   "metadata": {},
   "outputs": [
    {
     "data": {
      "text/plain": [
       "<tensorflow.python.checkpoint.checkpoint.CheckpointLoadStatus at 0x2bbd1c76340>"
      ]
     },
     "execution_count": 59,
     "metadata": {},
     "output_type": "execute_result"
    }
   ],
   "source": [
    "model_b.load_weights('saved_weights')"
   ]
  },
  {
   "cell_type": "code",
   "execution_count": 60,
   "id": "947b0d36",
   "metadata": {},
   "outputs": [
    {
     "name": "stderr",
     "output_type": "stream",
     "text": [
      "WARNING:absl:Found untraced functions such as restored_function_body, restored_function_body, restored_function_body, restored_function_body, restored_function_body while saving (showing 5 of 180). These functions will not be directly callable after loading.\n"
     ]
    }
   ],
   "source": [
    "model_b.save('test_save')"
   ]
  },
  {
   "cell_type": "code",
   "execution_count": 63,
   "id": "42143ca5",
   "metadata": {},
   "outputs": [],
   "source": [
    "texts = bert_tokenizer(['Fool'])"
   ]
  },
  {
   "cell_type": "code",
   "execution_count": 64,
   "id": "f68a5408",
   "metadata": {},
   "outputs": [
    {
     "name": "stdout",
     "output_type": "stream",
     "text": [
      "1/1 [==============================] - 0s 223ms/step\n"
     ]
    },
    {
     "data": {
      "text/plain": [
       "array([[0.9864593]], dtype=float32)"
      ]
     },
     "execution_count": 64,
     "metadata": {},
     "output_type": "execute_result"
    }
   ],
   "source": [
    "model_b.predict(texts)"
   ]
  },
  {
   "cell_type": "code",
   "execution_count": 58,
   "id": "e0bae339",
   "metadata": {},
   "outputs": [
    {
     "data": {
      "text/plain": [
       "<tensorflow.python.checkpoint.checkpoint.CheckpointLoadStatus at 0x2bbdd3bad60>"
      ]
     },
     "execution_count": 58,
     "metadata": {},
     "output_type": "execute_result"
    }
   ],
   "source": [
    "new_model."
   ]
  },
  {
   "cell_type": "code",
   "execution_count": 61,
   "id": "a7f9e5e3",
   "metadata": {},
   "outputs": [],
   "source": [
    "loaded_m = tf.keras.models.load_model('test_save', custom_objects={'KerasLayer':hub.KerasLayer} )"
   ]
  },
  {
   "cell_type": "code",
   "execution_count": 65,
   "id": "497f0a9e",
   "metadata": {},
   "outputs": [
    {
     "name": "stdout",
     "output_type": "stream",
     "text": [
      "1/1 [==============================] - 0s 225ms/step\n"
     ]
    },
    {
     "data": {
      "text/plain": [
       "array([[0.97451144]], dtype=float32)"
      ]
     },
     "execution_count": 65,
     "metadata": {},
     "output_type": "execute_result"
    }
   ],
   "source": [
    "loaded_m.predict(texts)"
   ]
  },
  {
   "cell_type": "code",
   "execution_count": null,
   "id": "7a626477",
   "metadata": {},
   "outputs": [],
   "source": []
  }
 ],
 "metadata": {
  "kernelspec": {
   "display_name": "Python 3 (ipykernel)",
   "language": "python",
   "name": "python3"
  },
  "language_info": {
   "codemirror_mode": {
    "name": "ipython",
    "version": 3
   },
   "file_extension": ".py",
   "mimetype": "text/x-python",
   "name": "python",
   "nbconvert_exporter": "python",
   "pygments_lexer": "ipython3",
   "version": "3.9.12"
  }
 },
 "nbformat": 4,
 "nbformat_minor": 5
}
